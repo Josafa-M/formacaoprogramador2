{
  "nbformat": 4,
  "nbformat_minor": 0,
  "metadata": {
    "colab": {
      "provenance": []
    },
    "kernelspec": {
      "name": "python3",
      "display_name": "Python 3"
    },
    "language_info": {
      "name": "python"
    }
  },
  "cells": [
    {
      "cell_type": "code",
      "execution_count": 2,
      "metadata": {
        "id": "T4-4LKC7o1K8",
        "colab": {
          "base_uri": "https://localhost:8080/"
        },
        "outputId": "168ed509-bbc5-4add-c579-aecf605f6d2a"
      },
      "outputs": [
        {
          "output_type": "stream",
          "name": "stdout",
          "text": [
            "-> Digite o nome do primeiro jogador:josafa\n",
            "-> Digite o nome do segundo jogador:manoel\n",
            "// Quem escolhe primeiro, josafa ou manoel?\n",
            "-> Digite 1 para esscolher josafa ou Digite 2 para escolhe manoel.1\n",
            "// Digite 0 para ecolher PAR ou 1 para escolher IMPAR.\n",
            "-> josafa, você quer par ou impar?par\n",
            "// manoel, você ficou com ímpar e o outro jogador escolheu par.\n",
            "-> josafa, escolha um número:2\n",
            "-> manoel, escolha um número:5\n",
            "// manoel venceu!\n"
          ]
        }
      ],
      "source": [
        "from mmap import MAP_SHARED\n",
        "jogador1 = input('-> Digite o nome do primeiro jogador:')\n",
        "jogador2 = input('-> Digite o nome do segundo jogador:')\n",
        "\n",
        "print(f'// Quem escolhe primeiro, {jogador1} ou {jogador2}?')\n",
        "primeiro_jogador = input(f'-> Digite 1 para esscolher {jogador1} ou Digite 2 para escolhe {jogador2}.')\n",
        "segundo_jogador = None\n",
        "\n",
        "if primeiro_jogador == \"1\":\n",
        "  primeiro_jogador = jogador1\n",
        "  segundo_jogador = jogador2\n",
        "elif primeiro_jogador == \"2\":\n",
        "  primeiro_jogador = jogador2\n",
        "  segundo_jogador = jogador1\n",
        "\n",
        "print('// Digite 0 para ecolher PAR ou 1 para escolher IMPAR.')\n",
        "escolha1 = input(f'-> {primeiro_jogador}, você quer par ou impar?')\n",
        "escolha2 = None\n",
        "\n",
        "if escolha1 == 'ímpar' or escolha1 == 'impar' or escolha1 == '1':\n",
        "  escolha1 = 'ímpar'\n",
        "  escolha2 = 'par'\n",
        "elif escolha1 == 'par' or escolha1 == '0':\n",
        "  escolha1 = 'par'\n",
        "  escolha2 = 'ímpar'\n",
        "\n",
        "print(f'// {segundo_jogador}, você ficou com {escolha2} e o outro jogador escolheu {escolha1}.')\n",
        "\n",
        "numero1 = int(input(f'-> {primeiro_jogador}, escolha um número:'))\n",
        "numero2 = int(input(f'-> {segundo_jogador}, escolha um número:'))\n",
        "\n",
        "soma = numero1 + numero2\n",
        "if soma % 2 == 0:\n",
        "  vencedor = 'par'\n",
        "else:\n",
        "  vencedor = 'ímpar'\n",
        "\n",
        "if vencedor == escolha1:\n",
        "  print(f'// {primeiro_jogador} venceu!')\n",
        "else:\n",
        "  print(f'// {segundo_jogador} venceu!')"
      ]
    }
  ]
}